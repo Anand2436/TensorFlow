{
 "cells": [
  {
   "cell_type": "code",
   "execution_count": 22,
   "metadata": {
    "collapsed": true
   },
   "outputs": [],
   "source": [
    "import tensorflow as tf"
   ]
  },
  {
   "cell_type": "markdown",
   "metadata": {},
   "source": [
    "# Constants:"
   ]
  },
  {
   "cell_type": "code",
   "execution_count": 8,
   "metadata": {},
   "outputs": [
    {
     "data": {
      "text/plain": [
       "<tf.Tensor 'add:0' shape=() dtype=int32>"
      ]
     },
     "execution_count": 8,
     "metadata": {},
     "output_type": "execute_result"
    }
   ],
   "source": [
    "a = tf.constant(4)\n",
    "a = tf.constant(99)\n",
    "b = tf.constant(89)\n",
    "\n",
    "c = a+b\n",
    "c"
   ]
  },
  {
   "cell_type": "code",
   "execution_count": 10,
   "metadata": {},
   "outputs": [
    {
     "data": {
      "text/plain": [
       "<tf.Tensor 'Add_1:0' shape=() dtype=int32>"
      ]
     },
     "execution_count": 10,
     "metadata": {},
     "output_type": "execute_result"
    }
   ],
   "source": [
    "c = tf.add(a,b)\n",
    "c"
   ]
  },
  {
   "cell_type": "markdown",
   "metadata": {},
   "source": [
    "# Methods to create and use session. Method 1:"
   ]
  },
  {
   "cell_type": "code",
   "execution_count": 12,
   "metadata": {},
   "outputs": [
    {
     "data": {
      "text/plain": [
       "188"
      ]
     },
     "execution_count": 12,
     "metadata": {},
     "output_type": "execute_result"
    }
   ],
   "source": [
    "abc = tf.Session()\n",
    "abc.run(c)"
   ]
  },
  {
   "cell_type": "code",
   "execution_count": 15,
   "metadata": {},
   "outputs": [
    {
     "data": {
      "text/plain": [
       "<tf.Tensor 'MatMul_1:0' shape=(1, 1) dtype=int32>"
      ]
     },
     "execution_count": 15,
     "metadata": {},
     "output_type": "execute_result"
    }
   ],
   "source": [
    "a = tf.constant([[3,3]])\n",
    "b = tf.constant([[2],[2]])\n",
    "\n",
    "c = tf.matmul(a,b)\n",
    "c"
   ]
  },
  {
   "cell_type": "code",
   "execution_count": 17,
   "metadata": {},
   "outputs": [
    {
     "data": {
      "text/plain": [
       "array([[12]], dtype=int32)"
      ]
     },
     "execution_count": 17,
     "metadata": {},
     "output_type": "execute_result"
    }
   ],
   "source": [
    "abc.run(c)"
   ]
  },
  {
   "cell_type": "markdown",
   "metadata": {},
   "source": [
    "# Method 2:"
   ]
  },
  {
   "cell_type": "code",
   "execution_count": 23,
   "metadata": {},
   "outputs": [
    {
     "name": "stdout",
     "output_type": "stream",
     "text": [
      "[[12]]\n"
     ]
    }
   ],
   "source": [
    "# print(c.eval()) will give error because there is no default session running\n",
    "with tf.Session() as sess: # write code to be run in the bodt=y of this function\n",
    "    print(c.eval())"
   ]
  },
  {
   "cell_type": "markdown",
   "metadata": {},
   "source": [
    "# Variables :"
   ]
  },
  {
   "cell_type": "code",
   "execution_count": 39,
   "metadata": {},
   "outputs": [
    {
     "name": "stdout",
     "output_type": "stream",
     "text": [
      "107\n",
      "value of a before assigning : 99\n",
      "value of a after assigning : 9\n",
      "17\n"
     ]
    }
   ],
   "source": [
    "a = tf.Variable(99)\n",
    "b = tf.Variable(8)\n",
    "\n",
    "c = a+b\n",
    "\n",
    "with tf.Session() as abc:\n",
    "    abc.run(tf.global_variables_initializer()) # variables need to be initialised for a func to be able to operate on them\n",
    "    # All variables created before the above command will be initialised only in this abc session\n",
    "    # if i create further variables below this line, they wont be initialised\n",
    "    print(c.eval())\n",
    "    a_assign = a.assign(9)\n",
    "    print(\"value of a before assigning :\",a.eval())\n",
    "    abc.run(a_assign)\n",
    "    print(\"value of a after assigning :\",a.eval())\n",
    "    print(c.eval())"
   ]
  },
  {
   "cell_type": "markdown",
   "metadata": {},
   "source": [
    "# Placeholders"
   ]
  },
  {
   "cell_type": "code",
   "execution_count": 47,
   "metadata": {},
   "outputs": [
    {
     "name": "stdout",
     "output_type": "stream",
     "text": [
      "990\n",
      "[ 990 1386]\n",
      "[[ 990]\n",
      " [2277]\n",
      " [  99]]\n"
     ]
    }
   ],
   "source": [
    "x = tf.placeholder(tf.int32)\n",
    "y = x * tf.constant(99)\n",
    "print(tf.Session().run(y,feed_dict = {x:10}))\n",
    "print(tf.Session().run(y,feed_dict = {x:[10,14]}))\n",
    "print(tf.Session().run(y,feed_dict = {x:[[10],[23],[1]]})) # x can take any shape because shape was not earlier specified\n",
    "# if we had given shape during x's declaration\n",
    "# x would take strictly that shape only!"
   ]
  }
 ],
 "metadata": {
  "kernelspec": {
   "display_name": "Python 3",
   "language": "python",
   "name": "python3"
  },
  "language_info": {
   "codemirror_mode": {
    "name": "ipython",
    "version": 3
   },
   "file_extension": ".py",
   "mimetype": "text/x-python",
   "name": "python",
   "nbconvert_exporter": "python",
   "pygments_lexer": "ipython3",
   "version": "3.6.3"
  }
 },
 "nbformat": 4,
 "nbformat_minor": 2
}
