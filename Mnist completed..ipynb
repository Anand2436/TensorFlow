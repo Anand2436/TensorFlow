{
 "cells": [
  {
   "cell_type": "code",
   "execution_count": 148,
   "metadata": {
    "collapsed": true
   },
   "outputs": [],
   "source": [
    "import tensorflow as tf"
   ]
  },
  {
   "cell_type": "code",
   "execution_count": 149,
   "metadata": {
    "collapsed": true
   },
   "outputs": [],
   "source": [
    "from tensorflow.examples.tutorials.mnist import input_data"
   ]
  },
  {
   "cell_type": "code",
   "execution_count": 150,
   "metadata": {
    "collapsed": true
   },
   "outputs": [],
   "source": [
    "# This data set contains images of digits 0 to 9 and we have to make predictions for the same."
   ]
  },
  {
   "cell_type": "code",
   "execution_count": 151,
   "metadata": {},
   "outputs": [
    {
     "name": "stdout",
     "output_type": "stream",
     "text": [
      "Extracting MNIST/train-images-idx3-ubyte.gz\n",
      "Extracting MNIST/train-labels-idx1-ubyte.gz\n",
      "Extracting MNIST/t10k-images-idx3-ubyte.gz\n",
      "Extracting MNIST/t10k-labels-idx1-ubyte.gz\n"
     ]
    }
   ],
   "source": [
    "mnist = input_data.read_data_sets(\"MNIST/\",one_hot = True)"
   ]
  },
  {
   "cell_type": "code",
   "execution_count": 152,
   "metadata": {},
   "outputs": [
    {
     "data": {
      "text/plain": [
       "((55000, 784), (5000, 784), (10000, 784))"
      ]
     },
     "execution_count": 152,
     "metadata": {},
     "output_type": "execute_result"
    }
   ],
   "source": [
    "mnist.train.images.shape, mnist.validation.images.shape, mnist.test.images.shape "
   ]
  },
  {
   "cell_type": "code",
   "execution_count": 153,
   "metadata": {
    "collapsed": true
   },
   "outputs": [],
   "source": [
    "# 784 implies 28*28 pixels flattened"
   ]
  },
  {
   "cell_type": "code",
   "execution_count": 154,
   "metadata": {},
   "outputs": [
    {
     "data": {
      "image/png": "[encoded data removed]",
      "text/plain": [
       "<matplotlib.figure.Figure at 0x7f9ff407fc50>"
      ]
     },
     "metadata": {},
     "output_type": "display_data"
    }
   ],
   "source": [
    "# plotting a random image\n",
    "import matplotlib.pyplot as plt\n",
    "import numpy as np\n",
    "\n",
    "narr = np.array(mnist.train.images[7])\n",
    "reshaped_arr = narr.reshape(28,28)\n",
    "plt.imshow(reshaped_arr)\n",
    "plt.show()"
   ]
  },
  {
   "cell_type": "code",
   "execution_count": 155,
   "metadata": {},
   "outputs": [],
   "source": [
    "# initialising weights and biases using tf.random_normal(shape)\n",
    "# weights and biases are a dict with keys h1,h2,h3,out\n",
    "# We are planning to make a Neural network with 3 hidden layers before the actual output layer\n",
    "\n",
    "n_input = 784 # ofcourse features are 784.\n",
    "n_hidden1 = 200\n",
    "n_hidden2 = 200\n",
    "n_hidden3 = 200\n",
    "n_classes = 10\n",
    "\n",
    "weights = {\n",
    "    \"h1\": tf.Variable(tf.random_normal([n_input,n_hidden1])),\n",
    "    \"h2\": tf.Variable(tf.random_normal([n_hidden1,n_hidden2])),\n",
    "    \"h3\": tf.Variable(tf.random_normal([n_hidden2,n_hidden3])),\n",
    "    \"out\": tf.Variable(tf.random_normal([n_hidden3,n_classes]))\n",
    "}\n",
    "\n",
    "biases = {\n",
    "    \"h1\": tf.Variable(tf.random_normal([n_hidden1])),\n",
    "    \"h2\": tf.Variable(tf.random_normal([n_hidden2])),\n",
    "    \"h3\": tf.Variable(tf.random_normal([n_hidden3])),\n",
    "    \"out\": tf.Variable(tf.random_normal([n_classes]))\n",
    "}"
   ]
  },
  {
   "cell_type": "code",
   "execution_count": 156,
   "metadata": {
    "collapsed": true
   },
   "outputs": [],
   "source": [
    "# forward_propagationcode with random weights and biases\n",
    "\n",
    "def forward_prop(x, weights, biases):\n",
    "    input_hidden1 = tf.add(tf.matmul(x,weights[\"h1\"]),biases[\"h1\"])\n",
    "    output_hidden1 = tf.nn.relu(input_hidden1)\n",
    "    \n",
    "    input_hidden2 = tf.add(tf.matmul(output_hidden1,weights[\"h2\"]),biases[\"h2\"])\n",
    "    output_hidden2 = tf.nn.relu(input_hidden2)\n",
    "    \n",
    "    input_hidden3 = tf.add(tf.matmul(output_hidden2,weights[\"h3\"]),biases[\"h3\"])\n",
    "    output_hidden3 = tf.nn.relu(input_hidden3)\n",
    "    \n",
    "    output = tf.add(tf.matmul(output_hidden3,weights[\"out\"]),biases[\"out\"])\n",
    "    return output"
   ]
  },
  {
   "cell_type": "code",
   "execution_count": 157,
   "metadata": {
    "collapsed": true
   },
   "outputs": [],
   "source": [
    "sess = tf.Session()\n",
    "sess.run(tf.global_variables_initializer())"
   ]
  },
  {
   "cell_type": "code",
   "execution_count": 158,
   "metadata": {
    "collapsed": true
   },
   "outputs": [],
   "source": [
    "# making placeholders for x and y such that passing train,test data can be more flexible\n",
    "x = tf.placeholder(\"float\",[None,n_input])\n",
    "y = tf.placeholder(tf.int32,[None,n_classes])"
   ]
  },
  {
   "cell_type": "code",
   "execution_count": 159,
   "metadata": {
    "collapsed": true
   },
   "outputs": [],
   "source": [
    "predictions = forward_prop(x,weights,biases)\n",
    "predicted_values = tf.argmax(predictions,1)\n",
    "true_values = tf.argmax(y,1)\n",
    "\n",
    "# comparing above two\n",
    "true_predictions_count = tf.equal(predicted_values,true_values)"
   ]
  },
  {
   "cell_type": "code",
   "execution_count": 160,
   "metadata": {},
   "outputs": [
    {
     "data": {
      "text/plain": [
       "(6316, (55000, 784))"
      ]
     },
     "execution_count": 160,
     "metadata": {},
     "output_type": "execute_result"
    }
   ],
   "source": [
    "# for testing dataset, we are getting an accuracy of around 10%\n",
    "\n",
    "preds,pred_val = sess.run([predictions,predicted_values],feed_dict = {x:mnist.train.images})\n",
    "true_val,true_pred = sess.run([true_values,true_predictions_count], feed_dict = {x:mnist.train.images,y:mnist.train.labels})\n",
    "\n",
    "true_pred.sum(), sess.run(x, feed_dict = {x:mnist.train.images}).shape"
   ]
  },
  {
   "cell_type": "code",
   "execution_count": 161,
   "metadata": {
    "collapsed": true
   },
   "outputs": [],
   "source": [
    "# there is function for calculating cost in tensor flow\n",
    "# calculates the cross entropy cost\n",
    "# whih we can calculate ourselves, using formula = -y(log h) - (1-y)log(1-h)\n",
    "\n",
    "cost = tf.reduce_mean(tf.nn.softmax_cross_entropy_with_logits(logits = predictions,labels = y))\n",
    "\n",
    "\n",
    "# cost is an array of dimension n_classes,1 \n",
    "# therefore calculating the mean"
   ]
  },
  {
   "cell_type": "code",
   "execution_count": 162,
   "metadata": {},
   "outputs": [],
   "source": [
    "optimizer = tf.train.AdamOptimizer(learning_rate = 0.01)\n",
    "optimize = optimizer.minimize(cost)"
   ]
  },
  {
   "cell_type": "code",
   "execution_count": 163,
   "metadata": {
    "collapsed": true
   },
   "outputs": [],
   "source": [
    "sess.run(tf.global_variables_initializer())"
   ]
  },
  {
   "cell_type": "code",
   "execution_count": 164,
   "metadata": {},
   "outputs": [
    {
     "data": {
      "text/plain": [
       "9647.9746"
      ]
     },
     "execution_count": 164,
     "metadata": {},
     "output_type": "execute_result"
    }
   ],
   "source": [
    "# when we re run this cell cost reduces everytime\n",
    "\n",
    "c, _ = sess.run([cost,optimize], feed_dict = {x:mnist.train.images,y:mnist.train.labels})\n",
    "c"
   ]
  },
  {
   "cell_type": "code",
   "execution_count": 165,
   "metadata": {},
   "outputs": [
    {
     "name": "stdout",
     "output_type": "stream",
     "text": [
      "6778.77\n",
      "5247.46\n",
      "4040.22\n",
      "2753.69\n",
      "1899.67\n",
      "1550.61\n",
      "1388.6\n",
      "1305.36\n",
      "1229.61\n",
      "1098.47\n",
      "947.819\n",
      "828.853\n",
      "739.749\n",
      "675.335\n",
      "637.594\n",
      "619.483\n",
      "604.035\n",
      "578.788\n",
      "542.739\n",
      "503.674\n",
      "468.489\n",
      "439.745\n",
      "416.083\n",
      "395.325\n",
      "375.998\n"
     ]
    }
   ],
   "source": [
    "for i in range(25):\n",
    "    c, _ = sess.run([cost,optimize], feed_dict = {x:mnist.train.images,y:mnist.train.labels})\n",
    "    print(c)"
   ]
  },
  {
   "cell_type": "code",
   "execution_count": 166,
   "metadata": {},
   "outputs": [
    {
     "data": {
      "text/plain": [
       "(46907, (55000, 784))"
      ]
     },
     "execution_count": 166,
     "metadata": {},
     "output_type": "execute_result"
    }
   ],
   "source": [
    "preds,pred_val = sess.run([predictions,predicted_values],feed_dict = {x:mnist.train.images})\n",
    "true_val,true_pred = sess.run([true_values,true_predictions_count], feed_dict = {x:mnist.train.images,y:mnist.train.labels})\n",
    "\n",
    "true_pred.sum(), sess.run(x, feed_dict = {x:mnist.train.images}).shape"
   ]
  },
  {
   "cell_type": "markdown",
   "metadata": {},
   "source": [
    "# Trying batch gradient descent if it gives better results"
   ]
  },
  {
   "cell_type": "code",
   "execution_count": 167,
   "metadata": {
    "collapsed": true
   },
   "outputs": [],
   "source": [
    "sess.run(tf.global_variables_initializer()) # initializing again"
   ]
  },
  {
   "cell_type": "code",
   "execution_count": 168,
   "metadata": {},
   "outputs": [
    {
     "data": {
      "text/plain": [
       "14717.036"
      ]
     },
     "execution_count": 168,
     "metadata": {},
     "output_type": "execute_result"
    }
   ],
   "source": [
    "#  calculating cost\n",
    "c,_ = sess.run([cost,optimize],feed_dict = {x:mnist.train.images,y:mnist.train.labels})\n",
    "c"
   ]
  },
  {
   "cell_type": "code",
   "execution_count": 169,
   "metadata": {},
   "outputs": [
    {
     "name": "stdout",
     "output_type": "stream",
     "text": [
      "22285.0736912\n",
      "3113.50453427\n",
      "4233.68899647\n",
      "9006.07302768\n",
      "6271.95974965\n",
      "3201.32590255\n",
      "1392.75567162\n",
      "3936.17366666\n",
      "1653.8441568\n",
      "1964.48169455\n",
      "2122.7847118\n",
      "2474.91495361\n",
      "3246.32793082\n",
      "639.395067614\n",
      "2211.380207\n",
      "2276.70659843\n",
      "3201.56344789\n",
      "1005.57974983\n",
      "2651.45247102\n",
      "1198.58721075\n",
      "333.459863893\n",
      "956.939019632\n",
      "907.494348547\n",
      "1689.82392124\n",
      "882.870693177\n"
     ]
    }
   ],
   "source": [
    "batch_size = 100\n",
    "for i in range(25):\n",
    "    num_batches = mnist.train.num_examples // batch_size\n",
    "    batch_x, batch_y = mnist.train.next_batch(batch_size)\n",
    "    total_cost = 0\n",
    "    for j in range(num_batches):\n",
    "        c,_ = sess.run([cost,optimize],feed_dict = {x:batch_x,y:batch_y})\n",
    "        total_cost += c\n",
    "    print(total_cost) # note that this total cost is way different than the cost calculated above! its a summation"
   ]
  },
  {
   "cell_type": "code",
   "execution_count": 171,
   "metadata": {},
   "outputs": [
    {
     "data": {
      "text/plain": [
       "(39208, (55000, 784))"
      ]
     },
     "execution_count": 171,
     "metadata": {},
     "output_type": "execute_result"
    }
   ],
   "source": [
    "preds,pred_val = sess.run([predictions,predicted_values],feed_dict = {x:mnist.train.images})\n",
    "true_val,true_pred = sess.run([true_values,true_predictions_count], feed_dict = {x:mnist.train.images,y:mnist.train.labels})\n",
    "\n",
    "true_pred.sum(), sess.run(x, feed_dict = {x:mnist.train.images}).shape"
   ]
  },
  {
   "cell_type": "markdown",
   "metadata": {},
   "source": [
    "# Results:\n",
    "\n",
    "1. forward propagation with random weights : 10% accuracy\n",
    "2. with optimizer:\n",
    "    a. schoastic gradient descent : 46/55% accuracy\n",
    "    b. batch gradient descent : 39/55 % accuracy"
   ]
  }
 ],
 "metadata": {
  "kernelspec": {
   "display_name": "Python 3",
   "language": "python",
   "name": "python3"
  },
  "language_info": {
   "codemirror_mode": {
    "name": "ipython",
    "version": 3
   },
   "file_extension": ".py",
   "mimetype": "text/x-python",
   "name": "python",
   "nbconvert_exporter": "python",
   "pygments_lexer": "ipython3",
   "version": "3.6.3"
  }
 },
 "nbformat": 4,
 "nbformat_minor": 2
}
